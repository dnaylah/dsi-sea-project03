{
 "cells": [
  {
   "cell_type": "markdown",
   "metadata": {},
   "source": [
    "# Getting started\n",
    "\n",
    "Once you've chosen your scenario, download the data from [the Iowa website](https://data.iowa.gov/Economy/Iowa-Liquor-Sales/m3tr-qhgy) in csv format. Start by loading the data with pandas. You may need to parse the date columns appropriately."
   ]
  },
  {
   "cell_type": "code",
   "execution_count": null,
   "metadata": {
    "collapsed": true
   },
   "outputs": [],
   "source": [
    "import numpy as np\n",
    "import pandas as pd\n",
    "% matplotlib inline\n",
    "from sklearn import datasets, linear_model, metrics\n",
    "from sklearn.cross_validation import cross_val_score, cross_val_predict, train_test_split\n",
    "from sklearn.metrics import r2_score\n",
    "from sklearn.metrics import mean_squared_error\n",
    "import statsmodels.api as sm"
   ]
  },
  {
   "cell_type": "code",
   "execution_count": 170,
   "metadata": {
    "collapsed": false
   },
   "outputs": [
    {
     "data": {
      "text/html": [
       "<div>\n",
       "<table border=\"1\" class=\"dataframe\">\n",
       "  <thead>\n",
       "    <tr style=\"text-align: right;\">\n",
       "      <th></th>\n",
       "      <th>Date</th>\n",
       "      <th>Store Number</th>\n",
       "      <th>City</th>\n",
       "      <th>Zip Code</th>\n",
       "      <th>County</th>\n",
       "      <th>Category Name</th>\n",
       "      <th>Vendor Number</th>\n",
       "      <th>Item Number</th>\n",
       "      <th>Item Description</th>\n",
       "      <th>Bottle Volume (ml)</th>\n",
       "      <th>State Bottle Cost</th>\n",
       "      <th>State Bottle Retail</th>\n",
       "      <th>Bottles Sold</th>\n",
       "      <th>Sale (Dollars)</th>\n",
       "      <th>Volume Sold (Liters)</th>\n",
       "      <th>Year</th>\n",
       "      <th>Month</th>\n",
       "    </tr>\n",
       "  </thead>\n",
       "  <tbody>\n",
       "    <tr>\n",
       "      <th>0</th>\n",
       "      <td>2015-11-04</td>\n",
       "      <td>3717</td>\n",
       "      <td>SUMNER</td>\n",
       "      <td>50674.0</td>\n",
       "      <td>Bremer</td>\n",
       "      <td>APRICOT BRANDIES</td>\n",
       "      <td>55</td>\n",
       "      <td>54436</td>\n",
       "      <td>Mr. Boston Apricot Brandy</td>\n",
       "      <td>750</td>\n",
       "      <td>4.50</td>\n",
       "      <td>6.75</td>\n",
       "      <td>12</td>\n",
       "      <td>81.00</td>\n",
       "      <td>9.0</td>\n",
       "      <td>2015</td>\n",
       "      <td>11</td>\n",
       "    </tr>\n",
       "    <tr>\n",
       "      <th>1</th>\n",
       "      <td>2016-03-02</td>\n",
       "      <td>2614</td>\n",
       "      <td>DAVENPORT</td>\n",
       "      <td>52807.0</td>\n",
       "      <td>Scott</td>\n",
       "      <td>BLENDED WHISKIES</td>\n",
       "      <td>395</td>\n",
       "      <td>27605</td>\n",
       "      <td>Tin Cup</td>\n",
       "      <td>750</td>\n",
       "      <td>13.75</td>\n",
       "      <td>20.63</td>\n",
       "      <td>2</td>\n",
       "      <td>41.26</td>\n",
       "      <td>1.5</td>\n",
       "      <td>2016</td>\n",
       "      <td>3</td>\n",
       "    </tr>\n",
       "    <tr>\n",
       "      <th>2</th>\n",
       "      <td>2016-02-11</td>\n",
       "      <td>2106</td>\n",
       "      <td>CEDAR FALLS</td>\n",
       "      <td>50613.0</td>\n",
       "      <td>Black Hawk</td>\n",
       "      <td>STRAIGHT BOURBON WHISKIES</td>\n",
       "      <td>65</td>\n",
       "      <td>19067</td>\n",
       "      <td>Jim Beam</td>\n",
       "      <td>1000</td>\n",
       "      <td>12.59</td>\n",
       "      <td>18.89</td>\n",
       "      <td>24</td>\n",
       "      <td>453.36</td>\n",
       "      <td>24.0</td>\n",
       "      <td>2016</td>\n",
       "      <td>2</td>\n",
       "    </tr>\n",
       "    <tr>\n",
       "      <th>3</th>\n",
       "      <td>2016-02-03</td>\n",
       "      <td>2501</td>\n",
       "      <td>AMES</td>\n",
       "      <td>50010.0</td>\n",
       "      <td>Story</td>\n",
       "      <td>AMERICAN COCKTAILS</td>\n",
       "      <td>395</td>\n",
       "      <td>59154</td>\n",
       "      <td>1800 Ultimate Margarita</td>\n",
       "      <td>1750</td>\n",
       "      <td>9.50</td>\n",
       "      <td>14.25</td>\n",
       "      <td>6</td>\n",
       "      <td>85.50</td>\n",
       "      <td>10.5</td>\n",
       "      <td>2016</td>\n",
       "      <td>2</td>\n",
       "    </tr>\n",
       "    <tr>\n",
       "      <th>4</th>\n",
       "      <td>2015-08-18</td>\n",
       "      <td>3654</td>\n",
       "      <td>BELMOND</td>\n",
       "      <td>50421.0</td>\n",
       "      <td>Wright</td>\n",
       "      <td>VODKA 80 PROOF</td>\n",
       "      <td>297</td>\n",
       "      <td>35918</td>\n",
       "      <td>Five O'clock Vodka</td>\n",
       "      <td>1750</td>\n",
       "      <td>7.20</td>\n",
       "      <td>10.80</td>\n",
       "      <td>12</td>\n",
       "      <td>129.60</td>\n",
       "      <td>21.0</td>\n",
       "      <td>2015</td>\n",
       "      <td>8</td>\n",
       "    </tr>\n",
       "  </tbody>\n",
       "</table>\n",
       "</div>"
      ],
      "text/plain": [
       "        Date  Store Number         City  Zip Code      County  \\\n",
       "0 2015-11-04          3717       SUMNER   50674.0      Bremer   \n",
       "1 2016-03-02          2614    DAVENPORT   52807.0       Scott   \n",
       "2 2016-02-11          2106  CEDAR FALLS   50613.0  Black Hawk   \n",
       "3 2016-02-03          2501         AMES   50010.0       Story   \n",
       "4 2015-08-18          3654      BELMOND   50421.0      Wright   \n",
       "\n",
       "               Category Name  Vendor Number  Item Number  \\\n",
       "0           APRICOT BRANDIES             55        54436   \n",
       "1           BLENDED WHISKIES            395        27605   \n",
       "2  STRAIGHT BOURBON WHISKIES             65        19067   \n",
       "3         AMERICAN COCKTAILS            395        59154   \n",
       "4             VODKA 80 PROOF            297        35918   \n",
       "\n",
       "            Item Description  Bottle Volume (ml)  State Bottle Cost  \\\n",
       "0  Mr. Boston Apricot Brandy                 750               4.50   \n",
       "1                    Tin Cup                 750              13.75   \n",
       "2                   Jim Beam                1000              12.59   \n",
       "3    1800 Ultimate Margarita                1750               9.50   \n",
       "4         Five O'clock Vodka                1750               7.20   \n",
       "\n",
       "   State Bottle Retail  Bottles Sold  Sale (Dollars)  Volume Sold (Liters)  \\\n",
       "0                 6.75            12           81.00                   9.0   \n",
       "1                20.63             2           41.26                   1.5   \n",
       "2                18.89            24          453.36                  24.0   \n",
       "3                14.25             6           85.50                  10.5   \n",
       "4                10.80            12          129.60                  21.0   \n",
       "\n",
       "   Year  Month  \n",
       "0  2015     11  \n",
       "1  2016      3  \n",
       "2  2016      2  \n",
       "3  2016      2  \n",
       "4  2015      8  "
      ]
     },
     "execution_count": 170,
     "metadata": {},
     "output_type": "execute_result"
    }
   ],
   "source": [
    "\n",
    "\n",
    "df = pd.read_csv('liquor_sales.csv')\n",
    "\n",
    "## tidy up columns\n",
    "df[\"Date\"] = pd.to_datetime(df[\"Date\"], format=\"%m/%d/%Y\")\n",
    "\n",
    "def removeDollarSigns(column):\n",
    "    df[column] = df[column].map(lambda x: x.replace(\"$\",\"\"))\n",
    "    \n",
    "removeDollarSigns('State Bottle Cost')\n",
    "removeDollarSigns('State Bottle Retail')\n",
    "removeDollarSigns('Sale (Dollars)')\n",
    "\n",
    "def convertColumns(column):\n",
    "    df[column] = pd.to_numeric(df[column], errors='coerce')\n",
    "    \n",
    "convertColumns('State Bottle Cost')\n",
    "convertColumns('State Bottle Retail')\n",
    "convertColumns('Sale (Dollars)')\n",
    "convertColumns('Zip Code')\n",
    "\n",
    "## Drop superfluous columns\n",
    "df = df.drop('Volume Sold (Gallons)', axis=1)\n",
    "df = df.drop('Category', axis=1)\n",
    "df = df.drop('County Number', axis=1)\n",
    "\n",
    "df['Year'], df['Month'] = df['Date'].dt.year, df['Date'].dt.month\n",
    "df.head()"
   ]
  },
  {
   "cell_type": "markdown",
   "metadata": {},
   "source": [
    "# Explore the data\n",
    "\n",
    "Perform some exploratory statistical analysis and make some plots, such as histograms of transaction totals, bottles sold, etc."
   ]
  },
  {
   "cell_type": "code",
   "execution_count": 180,
   "metadata": {
    "collapsed": false
   },
   "outputs": [],
   "source": [
    "#getting top and bottom 10 performing stores\n",
    "county_sales = pd.pivot_table(df, values=['Sale (Dollars)'], index=['County'], aggfunc=sum) \n",
    "county_high = county_sales.sort_values('Sale (Dollars)', ascending=False)[:5]\n",
    "county_low = county_sales.sort_values('Sale (Dollars)')[:5]\n",
    "\n",
    "## number of sales\n",
    "county_amount = pd.pivot_table(df, values=['Sale (Dollars)'], index=['County'], aggfunc=len) \n",
    "amount_high = county_amount.sort_values('Sale (Dollars)', ascending=False)[:5]\n",
    "amount_low = county_amount.sort_values('Sale (Dollars)')[:5]"
   ]
  },
  {
   "cell_type": "code",
   "execution_count": null,
   "metadata": {
    "collapsed": false
   },
   "outputs": [],
   "source": []
  },
  {
   "cell_type": "code",
   "execution_count": 157,
   "metadata": {
    "collapsed": false
   },
   "outputs": [],
   "source": [
    "store_sales_year = pd.pivot_table(df, values=['Sale (Dollars)'],\n",
    "                                  index=['Store Number'], columns=['year'], aggfunc=np.sum).dropna()\n",
    "\n",
    "\n",
    "jan_mar = df.ix[(df['month'] < 4)]\n",
    "jan_mar_info = pd.pivot_table(jan_mar, values=['Sale (Dollars)', 'Bottles Sold', 'Volume Sold (Liters)'],\n",
    "                                  index=['Store Number'], columns=['year'], aggfunc=np.sum).dropna()\n"
   ]
  },
  {
   "cell_type": "code",
   "execution_count": 184,
   "metadata": {
    "collapsed": false
   },
   "outputs": [
    {
     "name": "stdout",
     "output_type": "stream",
     "text": [
      "[('Sale_sum', 2015) ('Sale_sum', 2016) ('Bottles Sold_sum', 2015)\n",
      " ('Bottles Sold_sum', 2016) ('Volume Sold_sum', 2015)\n",
      " ('Volume Sold_sum', 2016) 'Store Number' ('Sale_mean', 2015)\n",
      " ('Sale_mean', 2016) ('Bottles Sold_mean', 2015)\n",
      " ('Bottles Sold_mean', 2016) ('Volume Sold_mean', 2015)\n",
      " ('Volume Sold_mean', 2016) ('Bottle Volume_mean', 2015)\n",
      " ('Bottle Volume_mean', 2016) ('State Bottle Retail_mean', 2015)\n",
      " ('State Bottle Retail_mean', 2016) ('Sale (Dollars)', 2015)\n",
      " ('Sale (Dollars)', 2016)]\n"
     ]
    }
   ],
   "source": [
    "#pivot tables\n",
    "\n",
    "jan_mar_means = pd.pivot_table(jan_mar, values=['Sale (Dollars)', 'Bottles Sold', 'Volume Sold (Liters)', 'Bottle Volume (ml)',\n",
    "                                     'State Bottle Retail'], index=['Store Number'], columns=['year']).dropna()\n",
    "\n",
    "jan_mar_info['Store Number'] = jan_mar_info.index\n",
    "jan_mar_means['Store Number'] = jan_mar_means.index\n",
    "store_sales_year['Store Number'] = store_sales_year.index\n",
    "\n",
    "jan_mar_info.columns = [('Sale_sum', 2015), ('Sale_sum', 2016),\n",
    "       ('Bottles Sold_sum', 2015), ('Bottles Sold_sum', 2016),\n",
    "       ('Volume Sold_sum', 2015), ('Volume Sold_sum', 2016),\n",
    "       ('Store Number')]\n",
    "\n",
    "jan_mar_means.columns = [('Sale_mean', 2015), ('Sale_mean', 2016),\n",
    "       ('Bottles Sold_mean', 2015), ('Bottles Sold_mean', 2016),\n",
    "       ('Volume Sold_mean', 2015), ('Volume Sold_mean', 2016),\n",
    "       ('Bottle Volume_mean', 2015), ('Bottle Volume_mean', 2016),\n",
    "       ('State Bottle Retail_mean', 2015), ('State Bottle Retail_mean', 2016),\n",
    "       ('Store Number')]\n",
    "\n",
    "pivot_temp = jan_mar_info.merge(jan_mar_means, on='Store Number',how='inner')\n",
    "main_pivot = pivot_temp.merge(store_sales_year, on='Store Number',how='inner')\n",
    "print main_pivot.columns.values"
   ]
  },
  {
   "cell_type": "markdown",
   "metadata": {},
   "source": [
    "## Record your findings\n",
    "\n",
    "Be sure to write out anything observations from your exploratory analysis."
   ]
  },
  {
   "cell_type": "markdown",
   "metadata": {},
   "source": [
    "# Mine the data\n",
    "Now you are ready to compute the variables you will use for your regression from the data. For example, you may want to\n",
    "compute total sales per store from Jan to March of 2015, mean price per bottle, etc. Refer to the readme for more ideas appropriate to your scenario.\n",
    "\n",
    "Pandas is your friend for this task. Take a look at the operations [here](http://pandas.pydata.org/pandas-docs/stable/groupby.html) for ideas on how to make the best use of pandas and feel free to search for blog and Stack Overflow posts to help you group data by certain variables and compute sums, means, etc. You may find it useful to create a new data frame to house this summary data."
   ]
  },
  {
   "cell_type": "markdown",
   "metadata": {},
   "source": [
    "# Refine the data\n",
    "Look for any statistical relationships, correlations, or other relevant properties of the dataset."
   ]
  },
  {
   "cell_type": "code",
   "execution_count": 163,
   "metadata": {
    "collapsed": false
   },
   "outputs": [
    {
     "name": "stdout",
     "output_type": "stream",
     "text": [
      "Best fit one variable: ('Sale_sum', 2015) ('R^2:', 0.96642213186251069)\n",
      "None\n",
      "Best fit two variables: (('Volume Sold_mean', 2015), ('Sale_sum', 2015)) ('R^2:', 0.96700095149349441)\n",
      "None\n",
      "Best fit three variables: (('Sale_sum', 2015), ('Volume Sold_sum', 2015), ('Bottles Sold_sum', 2015)) ('R^2:', 0.96725113011185271)\n",
      "None\n",
      "Best fit four variables: (('Sale_sum', 2015), ('Bottle Volume_mean', 2015), ('Bottles Sold_sum', 2015), ('Volume Sold_sum', 2015)) ('R^2:', 0.96758655166341367)\n",
      "None\n"
     ]
    }
   ],
   "source": [
    "\n",
    "\n",
    "\n",
    "cols = [('Sale_sum', 2015),\n",
    "       ('Bottles Sold_sum', 2015),\n",
    "       ('Volume Sold_sum', 2015),\n",
    "       ('Bottles Sold_mean', 2015),\n",
    "       ('Volume Sold_mean', 2015),\n",
    "       ('Bottle Volume_mean', 2015),\n",
    "       ('State Bottle Retail_mean', 2015)]\n",
    "\n",
    "def func1(X):\n",
    "    lm = linear_model.LinearRegression()\n",
    "    X = main_pivot[X]\n",
    "    y = main_pivot[('Sale (Dollars)', 2015)]\n",
    "    predictions = cross_val_predict(lm, X, y, cv=5)\n",
    "    model = lm.fit(X, y)\n",
    "    return \"R^2:\", model.score(X, y)\n",
    "    \n",
    "def find_best(i):\n",
    "    best = {}\n",
    "    for x in i:\n",
    "        best[x] = func1([x])\n",
    "    print (max(best, key=best.get)), best[(max(best, key=best.get))]\n",
    "print 'Best fit one variable:',find_best(cols)\n",
    "    \n",
    "def find_best_2(i):\n",
    "    two_best = {}\n",
    "    for x in i:\n",
    "        for j in i:\n",
    "            if x != j:\n",
    "                two_best[x, j] = func1([x, j])\n",
    "    print (max(two_best, key=two_best.get)), two_best[(max(two_best, key=two_best.get))]\n",
    "    return\n",
    "print 'Best fit two variables:',find_best_2(cols)\n",
    "\n",
    "def find_best_3(i):\n",
    "    three_best = {}\n",
    "    for x in i:\n",
    "        for j in i:\n",
    "            for k in i:    \n",
    "                if x != j != k:\n",
    "                    three_best[x, j, k] = func1([x, j, k])\n",
    "    print (max(three_best, key=three_best.get)), three_best[(max(three_best, key=three_best.get))]\n",
    "    return\n",
    "print 'Best fit three variables:',find_best_3(cols)\n",
    "\n",
    "def find_best_4(i):\n",
    "    four_best = {}\n",
    "    for x in i:\n",
    "        for j in i:\n",
    "            for k in i:    \n",
    "                for t in i:    \n",
    "                    if x != j != k != t:\n",
    "                        four_best[x, j, k, t] = func1([x, j, k, t])\n",
    "    print (max(four_best, key=four_best.get)), four_best[(max(four_best, key=four_best.get))]\n",
    "    return\n",
    "    \n",
    "print 'Best fit four variables:', find_best_4(cols)"
   ]
  },
  {
   "cell_type": "code",
   "execution_count": 164,
   "metadata": {
    "collapsed": false
   },
   "outputs": [
    {
     "data": {
      "image/png": "[encoded data removed]",
      "text/plain": [
       "<matplotlib.figure.Figure at 0x118a5f650>"
      ]
     },
     "metadata": {},
     "output_type": "display_data"
    },
    {
     "name": "stdout",
     "output_type": "stream",
     "text": [
      "R^2: 0.966259879157\n"
     ]
    }
   ],
   "source": [
    "\n",
    "\n",
    "\n",
    "lm = linear_model.LinearRegression()\n",
    "\n",
    "X = main_pivot[[('Bottle Volume_mean', 2015), ('Volume Sold_mean', 2015), ('Sale_sum', 2015), \n",
    "                ('Bottles Sold_mean', 2015)]]\n",
    "#2015 sales is the target\n",
    "y = main_pivot[('Sale (Dollars)', 2015)]\n",
    "\n",
    "predictions1 = cross_val_predict(lm, X, y, cv=5)\n",
    "model = lm.fit(X, predictions1)\n",
    "plt.scatter(y, predictions1, c='g')\n",
    "plt.show()\n",
    "\n",
    "print \"R^2:\", lm.score(X, y)\n",
    "\n",
    "# Predict 2016 sales using the model\n",
    "X = main_pivot[[('Bottle Volume_mean', 2016), ('Volume Sold_mean', 2016), ('Sale_sum', 2016),\n",
    "                ('Bottles Sold_mean', 2016)]]\n",
    "predictions = lm.predict(X)"
   ]
  },
  {
   "cell_type": "code",
   "execution_count": 186,
   "metadata": {
    "collapsed": false
   },
   "outputs": [
    {
     "data": {
      "image/png": "[encoded data removed]",
      "text/plain": [
       "<matplotlib.figure.Figure at 0x117d61f10>"
      ]
     },
     "metadata": {},
     "output_type": "display_data"
    },
    {
     "data": {
      "image/png": "[encoded data removed]",
      "text/plain": [
       "<matplotlib.figure.Figure at 0x11bff2890>"
      ]
     },
     "metadata": {},
     "output_type": "display_data"
    },
    {
     "name": "stdout",
     "output_type": "stream",
     "text": [
      "2016 Sales Prediction Sum: 27607603.7808\n",
      "2015 Sales Sum: 27506362.16\n"
     ]
    }
   ],
   "source": [
    "#2015 actual vs predicted\n",
    "lm = linear_model.LinearRegression()\n",
    "X = main_pivot[[('Bottle Volume_mean', 2015), ('Volume Sold_mean', 2015), ('Sale_sum', 2015), \n",
    "                ('Bottles Sold_mean', 2015)]]\n",
    "y = main_pivot[('Sale (Dollars)', 2015)]\n",
    "predictions1 = cross_val_predict(lm, X, y, cv=5)\n",
    "plt.scatter(y, predictions1, c='g', alpha=0.5)\n",
    "plt.title('2015 actual sales vs. predicted sales')\n",
    "plt.xlabel('Actual Sales')\n",
    "plt.ylabel('Predicted Sales')\n",
    "plt.show()\n",
    "\n",
    "#2016 predicted\n",
    "plt.plot(predictions, color='g', alpha=0.5)\n",
    "plt.title('2016 Sales Predictions')\n",
    "plt.xlabel('Stores')\n",
    "plt.ylabel('Sales in Dollars')\n",
    "plt.show()\n",
    "\n",
    "\n",
    "print '2016 Sales Prediction Sum:', np.sum(predictions)\n",
    "print '2015 Sales Sum:', sum(main_pivot[('Sale (Dollars)', 2015)])"
   ]
  },
  {
   "cell_type": "code",
   "execution_count": null,
   "metadata": {
    "collapsed": true
   },
   "outputs": [],
   "source": []
  }
 ],
 "metadata": {
  "anaconda-cloud": {},
  "kernelspec": {
   "display_name": "Python [default]",
   "language": "python",
   "name": "python2"
  },
  "language_info": {
   "codemirror_mode": {
    "name": "ipython",
    "version": 2
   },
   "file_extension": ".py",
   "mimetype": "text/x-python",
   "name": "python",
   "nbconvert_exporter": "python",
   "pygments_lexer": "ipython2",
   "version": "2.7.12"
  }
 },
 "nbformat": 4,
 "nbformat_minor": 0
}
